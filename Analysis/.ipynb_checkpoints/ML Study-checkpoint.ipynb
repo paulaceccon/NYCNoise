{
 "cells": [
  {
   "cell_type": "markdown",
   "metadata": {},
   "source": [
    "# An Initial Study about the Impact of Planned Construction on School Test Reports\n",
    "\n",
    "## Data Sources:\n",
    "\n",
    "- [NYC Test Results](http://schools.nyc.gov/Accountability/data/default.htm)\n",
    "- [NYC School Point Locations](https://data.cityofnewyork.us/Education/School-Point-Locations/jfju-ynrr)\n",
    "- [NYC Multi Agency Permits](https://data.cityofnewyork.us/City-Government/Multi-Agency-Permits/xfyi-uyt5)\n",
    "\n",
    "## Test Results:\n",
    "\n",
    "This data contains test results for all NYC schools, and it is strutured as the following:\n",
    "\n",
    "| School Name | Grade | Year | Number Tested | Mean Scale Score | # | % | # | % | # | % | \n",
    "\n",
    "## Strategy\n",
    "\n",
    "For each school with coordinates P, filter the scheduled constructions given a certain radius from P. Given that the **NYC Test Results** contains one test per year, it is also necessary to filter the permits given an specified period of time, say, 2/3 of a year."
   ]
  },
  {
   "cell_type": "markdown",
   "metadata": {},
   "source": [
    "# Code"
   ]
  },
  {
   "cell_type": "code",
   "execution_count": 1,
   "metadata": {
    "collapsed": true
   },
   "outputs": [],
   "source": [
    "# Imports \n",
    "\n",
    "%matplotlib inline\n",
    "\n",
    "import csv, json\n",
    "import time\n",
    "import matplotlib\n",
    "import matplotlib.pyplot as plt\n",
    "import shapefile\n",
    "\n",
    "from sklearn import preprocessing\n",
    "from sklearn import linear_model\n",
    "from geopy.geocoders import Nominatim\n",
    "from geopy.geocoders import GoogleV3\n",
    "from shapely.geometry import shape, Point\n",
    "from rtree import index\n",
    "from datetime import datetime, date, timedelta\n",
    "from haversine import haversine"
   ]
  },
  {
   "cell_type": "code",
   "execution_count": 2,
   "metadata": {
    "collapsed": false
   },
   "outputs": [
    {
     "name": "stdout",
     "output_type": "stream",
     "text": [
      "Number of schools in shape file: 1709\n",
      "Number of schools in ELA file for '13: 1086\n",
      "Number of schools in ELA file for '14: 1115\n",
      "Number of schools in ELA file for '15: 1132\n"
     ]
    }
   ],
   "source": [
    "# Opening the required data\n",
    "\n",
    "shp = open(\"../Resources/Public_Schools_Points.shp\", \"rb\")\n",
    "dbf = open(\"../Resources/Public_Schools_Points.dbf\", \"rb\")\n",
    "sf = shapefile.Reader(shp=shp, dbf=dbf)\n",
    "\n",
    "permiters = csv.DictReader(open(\"../Resources/Permiters.csv\", \"rb\"), delimiter=',')\n",
    "\n",
    "f = open(\"../Resources/ELA.csv\", \"rb\")\n",
    "ela = csv.DictReader(f, delimiter=',')\n",
    "\n",
    "print \"Number of schools in shape file:\", len(list(sf.iterShapes()))\n",
    "print \"Number of schools in ELA file for '13:\", len([1 for line in ela if line[\"Grade\"] == \"All Grades\" and line[\"Year\"] == \"2013\"])\n",
    "f.seek(0)\n",
    "print \"Number of schools in ELA file for '14:\", len([1 for line in ela if line[\"Grade\"] == \"All Grades\" and line[\"Year\"] == \"2014\"])\n",
    "f.seek(0)\n",
    "print \"Number of schools in ELA file for '15:\", len([1 for line in ela if line[\"Grade\"] == \"All Grades\" and line[\"Year\"] == \"2015\"])\n",
    "f.seek(0)"
   ]
  },
  {
   "cell_type": "code",
   "execution_count": 11,
   "metadata": {
    "collapsed": false
   },
   "outputs": [
    {
     "ename": "GeocoderQuotaExceeded",
     "evalue": "The given key has gone over the requests limit in the 24 hour period or has submitted too many requests in too short a period of time.",
     "output_type": "error",
     "traceback": [
      "\u001b[0;31m---------------------------------------------------------------------------\u001b[0m",
      "\u001b[0;31mGeocoderQuotaExceeded\u001b[0m                     Traceback (most recent call last)",
      "\u001b[0;32m<ipython-input-11-e3d22d1fb6ef>\u001b[0m in \u001b[0;36m<module>\u001b[0;34m()\u001b[0m\n\u001b[1;32m     10\u001b[0m \u001b[0;32mfor\u001b[0m \u001b[0mi\u001b[0m\u001b[0;34m,\u001b[0m \u001b[0mshape\u001b[0m \u001b[0;32min\u001b[0m \u001b[0menumerate\u001b[0m\u001b[0;34m(\u001b[0m\u001b[0msf\u001b[0m\u001b[0;34m.\u001b[0m\u001b[0mshapes\u001b[0m\u001b[0;34m(\u001b[0m\u001b[0;34m)\u001b[0m\u001b[0;34m)\u001b[0m\u001b[0;34m:\u001b[0m\u001b[0;34m\u001b[0m\u001b[0m\n\u001b[1;32m     11\u001b[0m     \u001b[0madress\u001b[0m \u001b[0;34m=\u001b[0m \u001b[0mrecords\u001b[0m\u001b[0;34m[\u001b[0m\u001b[0mi\u001b[0m\u001b[0;34m]\u001b[0m\u001b[0;34m[\u001b[0m\u001b[0;36m9\u001b[0m\u001b[0;34m]\u001b[0m \u001b[0;34m+\u001b[0m\u001b[0;34m' '\u001b[0m\u001b[0;34m+\u001b[0m \u001b[0msf\u001b[0m\u001b[0;34m.\u001b[0m\u001b[0mrecords\u001b[0m\u001b[0;34m(\u001b[0m\u001b[0;34m)\u001b[0m\u001b[0;34m[\u001b[0m\u001b[0mi\u001b[0m\u001b[0;34m]\u001b[0m\u001b[0;34m[\u001b[0m\u001b[0;36m16\u001b[0m\u001b[0;34m]\u001b[0m \u001b[0;34m+\u001b[0m\u001b[0;34m' '\u001b[0m\u001b[0;34m+\u001b[0m \u001b[0mstr\u001b[0m\u001b[0;34m(\u001b[0m\u001b[0msf\u001b[0m\u001b[0;34m.\u001b[0m\u001b[0mrecords\u001b[0m\u001b[0;34m(\u001b[0m\u001b[0;34m)\u001b[0m\u001b[0;34m[\u001b[0m\u001b[0mi\u001b[0m\u001b[0;34m]\u001b[0m\u001b[0;34m[\u001b[0m\u001b[0;36m11\u001b[0m\u001b[0;34m]\u001b[0m\u001b[0;34m)\u001b[0m\u001b[0;34m\u001b[0m\u001b[0m\n\u001b[0;32m---> 12\u001b[0;31m     \u001b[0mlocation\u001b[0m \u001b[0;34m=\u001b[0m \u001b[0mgeolocator\u001b[0m\u001b[0;34m.\u001b[0m\u001b[0mgeocode\u001b[0m\u001b[0;34m(\u001b[0m\u001b[0madress\u001b[0m\u001b[0;34m,\u001b[0m \u001b[0mtimeout\u001b[0m\u001b[0;34m=\u001b[0m\u001b[0mNone\u001b[0m\u001b[0;34m)\u001b[0m\u001b[0;34m\u001b[0m\u001b[0m\n\u001b[0m\u001b[1;32m     13\u001b[0m     \u001b[0mschool_points\u001b[0m\u001b[0;34m[\u001b[0m\u001b[0msf\u001b[0m\u001b[0;34m.\u001b[0m\u001b[0mrecords\u001b[0m\u001b[0;34m(\u001b[0m\u001b[0;34m)\u001b[0m\u001b[0;34m[\u001b[0m\u001b[0mi\u001b[0m\u001b[0;34m]\u001b[0m\u001b[0;34m[\u001b[0m\u001b[0;36m4\u001b[0m\u001b[0;34m]\u001b[0m\u001b[0;34m]\u001b[0m \u001b[0;34m=\u001b[0m \u001b[0;34m(\u001b[0m\u001b[0mlocation\u001b[0m\u001b[0;34m.\u001b[0m\u001b[0mlatitude\u001b[0m\u001b[0;34m,\u001b[0m \u001b[0mlocation\u001b[0m\u001b[0;34m.\u001b[0m\u001b[0mlongitude\u001b[0m\u001b[0;34m)\u001b[0m\u001b[0;34m\u001b[0m\u001b[0m\n\u001b[1;32m     14\u001b[0m \u001b[0;34m\u001b[0m\u001b[0m\n",
      "\u001b[0;32m/Users/pceccon/Library/Python/2.7/lib/python/site-packages/geopy/geocoders/googlev3.pyc\u001b[0m in \u001b[0;36mgeocode\u001b[0;34m(self, query, exactly_one, timeout, bounds, region, components, language, sensor)\u001b[0m\n\u001b[1;32m    215\u001b[0m         \u001b[0mlogger\u001b[0m\u001b[0;34m.\u001b[0m\u001b[0mdebug\u001b[0m\u001b[0;34m(\u001b[0m\u001b[0;34m\"%s.geocode: %s\"\u001b[0m\u001b[0;34m,\u001b[0m \u001b[0mself\u001b[0m\u001b[0;34m.\u001b[0m\u001b[0m__class__\u001b[0m\u001b[0;34m.\u001b[0m\u001b[0m__name__\u001b[0m\u001b[0;34m,\u001b[0m \u001b[0murl\u001b[0m\u001b[0;34m)\u001b[0m\u001b[0;34m\u001b[0m\u001b[0m\n\u001b[1;32m    216\u001b[0m         return self._parse_json(\n\u001b[0;32m--> 217\u001b[0;31m             \u001b[0mself\u001b[0m\u001b[0;34m.\u001b[0m\u001b[0m_call_geocoder\u001b[0m\u001b[0;34m(\u001b[0m\u001b[0murl\u001b[0m\u001b[0;34m,\u001b[0m \u001b[0mtimeout\u001b[0m\u001b[0;34m=\u001b[0m\u001b[0mtimeout\u001b[0m\u001b[0;34m)\u001b[0m\u001b[0;34m,\u001b[0m \u001b[0mexactly_one\u001b[0m\u001b[0;34m\u001b[0m\u001b[0m\n\u001b[0m\u001b[1;32m    218\u001b[0m         )\n\u001b[1;32m    219\u001b[0m \u001b[0;34m\u001b[0m\u001b[0m\n",
      "\u001b[0;32m/Users/pceccon/Library/Python/2.7/lib/python/site-packages/geopy/geocoders/googlev3.pyc\u001b[0m in \u001b[0;36m_parse_json\u001b[0;34m(self, page, exactly_one)\u001b[0m\n\u001b[1;32m    336\u001b[0m         \u001b[0mplaces\u001b[0m \u001b[0;34m=\u001b[0m \u001b[0mpage\u001b[0m\u001b[0;34m.\u001b[0m\u001b[0mget\u001b[0m\u001b[0;34m(\u001b[0m\u001b[0;34m'results'\u001b[0m\u001b[0;34m,\u001b[0m \u001b[0;34m[\u001b[0m\u001b[0;34m]\u001b[0m\u001b[0;34m)\u001b[0m\u001b[0;34m\u001b[0m\u001b[0m\n\u001b[1;32m    337\u001b[0m         \u001b[0;32mif\u001b[0m \u001b[0;32mnot\u001b[0m \u001b[0mlen\u001b[0m\u001b[0;34m(\u001b[0m\u001b[0mplaces\u001b[0m\u001b[0;34m)\u001b[0m\u001b[0;34m:\u001b[0m\u001b[0;34m\u001b[0m\u001b[0m\n\u001b[0;32m--> 338\u001b[0;31m             \u001b[0mself\u001b[0m\u001b[0;34m.\u001b[0m\u001b[0m_check_status\u001b[0m\u001b[0;34m(\u001b[0m\u001b[0mpage\u001b[0m\u001b[0;34m.\u001b[0m\u001b[0mget\u001b[0m\u001b[0;34m(\u001b[0m\u001b[0;34m'status'\u001b[0m\u001b[0;34m)\u001b[0m\u001b[0;34m)\u001b[0m\u001b[0;34m\u001b[0m\u001b[0m\n\u001b[0m\u001b[1;32m    339\u001b[0m             \u001b[0;32mreturn\u001b[0m \u001b[0mNone\u001b[0m\u001b[0;34m\u001b[0m\u001b[0m\n\u001b[1;32m    340\u001b[0m \u001b[0;34m\u001b[0m\u001b[0m\n",
      "\u001b[0;32m/Users/pceccon/Library/Python/2.7/lib/python/site-packages/geopy/geocoders/googlev3.pyc\u001b[0m in \u001b[0;36m_check_status\u001b[0;34m(status)\u001b[0m\n\u001b[1;32m    361\u001b[0m         \u001b[0;32mif\u001b[0m \u001b[0mstatus\u001b[0m \u001b[0;34m==\u001b[0m \u001b[0;34m'OVER_QUERY_LIMIT'\u001b[0m\u001b[0;34m:\u001b[0m\u001b[0;34m\u001b[0m\u001b[0m\n\u001b[1;32m    362\u001b[0m             raise GeocoderQuotaExceeded(\n\u001b[0;32m--> 363\u001b[0;31m                 \u001b[0;34m'The given key has gone over the requests limit in the 24'\u001b[0m\u001b[0;34m\u001b[0m\u001b[0m\n\u001b[0m\u001b[1;32m    364\u001b[0m                 \u001b[0;34m' hour period or has submitted too many requests in too'\u001b[0m\u001b[0;34m\u001b[0m\u001b[0m\n\u001b[1;32m    365\u001b[0m                 \u001b[0;34m' short a period of time.'\u001b[0m\u001b[0;34m\u001b[0m\u001b[0m\n",
      "\u001b[0;31mGeocoderQuotaExceeded\u001b[0m: The given key has gone over the requests limit in the 24 hour period or has submitted too many requests in too short a period of time."
     ]
    }
   ],
   "source": [
    "# Data Pre-Processing\n",
    "\n",
    "# Creating a dictionary of school name : school point\n",
    "school_points = {}\n",
    "\n",
    "# geolocator = Nominatim()\n",
    "geolocator = GoogleV3()\n",
    "records = sf.records()\n",
    "\n",
    "for i, shape in enumerate(sf.shapes()):\n",
    "    adress = records[i][9] +' '+ sf.records()[i][16] +' '+ str(sf.records()[i][11])\n",
    "    location = geolocator.geocode(adress, timeout=None)\n",
    "    school_points[sf.records()[i][4]] = (location.latitude, location.longitude)\n",
    "\n",
    "with open('../Resources/School_locations.csv', 'wb') as csvfile:\n",
    "    spamwriter = csv.writer(csvfile, delimiter=',')\n",
    "    for key, item in school_points.iteritems():\n",
    "        spamwriter.writerow([key, item[0], item[1]])"
   ]
  },
  {
   "cell_type": "code",
   "execution_count": null,
   "metadata": {
    "collapsed": false
   },
   "outputs": [],
   "source": [
    "# Returns a dictionary of permit type and info\n",
    "def get_permiters_data(days_span):\n",
    "    \"\"\"\n",
    "    Process the permiters .csv file\n",
    "    :param days_span: number of days to be considered to count a permit issue\n",
    "    :return: dictionary {permit : [lon, lat, ini, end]}\n",
    "    \"\"\"\n",
    "    permiters_data = {}\n",
    "    for line in permiters:\n",
    "        lon = line[\"Longitude_WGS84\"]\n",
    "        lat = line[\"Latitude_WGS84\"]\n",
    "        ini = datetime.strptime(line[\"Permit_Issuance_Date\"], '%m/%d/%y 0:00')\n",
    "        cat = line[\"Permit_Type_Description\"]\n",
    "        end = datetime.strptime(line[\"Permit_Expiration_Date\"], '%m/%d/%y 0:00')\n",
    "        span = end - ini\n",
    "        if span.days <= days_span:\n",
    "            continue\n",
    "        if permiters_data.get(cat, None) is None:\n",
    "            permiters_data[cat] = []\n",
    "        permiters_data[cat].append([(lat, lon), span.days])\n",
    "    return permiters_data\n",
    "\n",
    "# Returns the number of constructions near a given school\n",
    "def constructions_near_school(permiters, sch_loc, dist_km):\n",
    "    \"\"\"\n",
    "    Obtains the number of constructions ocurring near some school\n",
    "    :param permiters: a list of permiters \n",
    "    :param sch_loc: the localizatin of the school\n",
    "    :param dist_km: the maximum distance between the permit and the location of the school\n",
    "    :return: the number of permiters\n",
    "    \"\"\"\n",
    "    count = 0\n",
    "    for permit in permiters:\n",
    "        p = permit[0]\n",
    "        if haversine(p, sch_loc) <= dist:    \n",
    "             count += 1\n",
    "    return count\n",
    "\n",
    "# Returns a list of school data give a grade and an year of interest\n",
    "def get_school_data(permiters, sch_grade, sch_year):\n",
    "    school_data = []\n",
    "    for line in ela:\n",
    "        name  = line[\"School Name\"]\n",
    "        grade = line[\"Grade\"]\n",
    "        year  = line[\"Year\"]\n",
    "        score = line[\"Mean Scale Score\"]\n",
    "        coord = school_points.get(name, None)\n",
    "        if coord is not None and grade == \"All Grades\" and year == \"2013\":\n",
    "            school_data.append([name, coord, score])\n",
    "    return school_data"
   ]
  },
  {
   "cell_type": "code",
   "execution_count": null,
   "metadata": {
    "collapsed": false
   },
   "outputs": [],
   "source": [
    "permiters_data = get_permiters_data(366 / 3)\n",
    "\n",
    "# school_data = get_school_data(permiters_data, \"All Grades\", \"2013\")\n",
    "        \n",
    "# print \"Number of matched data:\", len(school_data)"
   ]
  },
  {
   "cell_type": "code",
   "execution_count": null,
   "metadata": {
    "collapsed": false
   },
   "outputs": [],
   "source": [
    "print permiters_data.values()"
   ]
  },
  {
   "cell_type": "code",
   "execution_count": null,
   "metadata": {
    "collapsed": true
   },
   "outputs": [],
   "source": []
  }
 ],
 "metadata": {
  "kernelspec": {
   "display_name": "Python 2",
   "language": "python",
   "name": "python2"
  },
  "language_info": {
   "codemirror_mode": {
    "name": "ipython",
    "version": 2
   },
   "file_extension": ".py",
   "mimetype": "text/x-python",
   "name": "python",
   "nbconvert_exporter": "python",
   "pygments_lexer": "ipython2",
   "version": "2.7.10"
  }
 },
 "nbformat": 4,
 "nbformat_minor": 0
}
