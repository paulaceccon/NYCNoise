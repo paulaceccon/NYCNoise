{
 "cells": [
  {
   "cell_type": "markdown",
   "metadata": {},
   "source": [
    "# An Initial Study about the Impact of Planned Construction on School Test Reports\n",
    "\n",
    "## Data Sources:\n",
    "\n",
    "- [NYC Test Results](http://schools.nyc.gov/Accountability/data/default.htm)\n",
    "- [NYC School Point Locations](https://data.cityofnewyork.us/Education/School-Point-Locations/jfju-ynrr)\n",
    "- [NYC Multi Agency Permits](https://data.cityofnewyork.us/City-Government/Multi-Agency-Permits/xfyi-uyt5)\n",
    "\n",
    "## Test Results:\n",
    "\n",
    "This data contains test results for all NYC schools, and it is strutured as the following:\n",
    "\n",
    "| School Name | Grade | Year | Number Tested | Mean Scale Score | # | % | # | % | # | % | \n",
    "\n",
    "## Strategy\n",
    "\n",
    "For each school with coordinates P, filter the scheduled constructions given a certain radius from P. Given that the **NYC Test Results** contains one test per year, it is also necessary to filter the permits given an specified period of time, say, 2/3 of a year."
   ]
  },
  {
   "cell_type": "markdown",
   "metadata": {},
   "source": [
    "# Code\n",
    "\n",
    "### Imports "
   ]
  },
  {
   "cell_type": "code",
   "execution_count": 1,
   "metadata": {
    "collapsed": false
   },
   "outputs": [],
   "source": [
    "# Imports \n",
    "\n",
    "%matplotlib inline\n",
    "\n",
    "import csv, json\n",
    "import time\n",
    "import matplotlib\n",
    "import matplotlib.pyplot as plt\n",
    "import shapefile\n",
    "import itertools\n",
    "import numpy\n",
    "\n",
    "from scipy.spatial import cKDTree\n",
    "from scipy import inf\n",
    "from sklearn import preprocessing\n",
    "from sklearn import linear_model\n",
    "# from geopy.geocoders import Nominatim\n",
    "# from geopy.geocoders import GoogleV3\n",
    "from geoindex import GeoGridIndex, GeoPoint\n",
    "from shapely.geometry import shape, Point\n",
    "# from rtree import index\n",
    "from datetime import datetime, date, timedelta\n",
    "# from haversine import haversine"
   ]
  },
  {
   "cell_type": "markdown",
   "metadata": {},
   "source": [
    "### Pre-processing"
   ]
  },
  {
   "cell_type": "code",
   "execution_count": 2,
   "metadata": {
    "collapsed": false
   },
   "outputs": [
    {
     "name": "stdout",
     "output_type": "stream",
     "text": [
      "Number of schools in shape file: 1709\n"
     ]
    }
   ],
   "source": [
    "# Opening the required data\n",
    "\n",
    "shp = open(\"../Resources/Public_Schools_Points.shp\", \"rb\")\n",
    "dbf = open(\"../Resources/Public_Schools_Points.dbf\", \"rb\")\n",
    "sf = shapefile.Reader(shp=shp, dbf=dbf)\n",
    "\n",
    "print \"Number of schools in shape file:\", len(list(sf.iterShapes()))"
   ]
  },
  {
   "cell_type": "code",
   "execution_count": 3,
   "metadata": {
    "collapsed": false
   },
   "outputs": [],
   "source": [
    "# Data Pre-Processing\n",
    "\n",
    "# Creating a dictionary of school name : school point\n",
    "school_points = {}\n",
    "\n",
    "school_loc = csv.reader(open(\"../Resources/School_locations.csv\", \"rb\"), delimiter=',')\n",
    "for line in school_loc:\n",
    "    school_points[line[0]] = (line[1], line[2])\n",
    "    \n",
    "# geolocator = Nominatim()\n",
    "# geolocator = GoogleV3()\n",
    "# records = sf.records()\n",
    "\n",
    "# with open('../Resources/School_locations.csv', 'wb') as csvfile:\n",
    "#     spamwriter = csv.writer(csvfile, delimiter=',')\n",
    "#     for i, shape in enumerate(sf.shapes()):\n",
    "#         adress = records[i][9] +' '+ sf.records()[i][16] +' '+ str(sf.records()[i][11])\n",
    "#         location = geolocator.geocode(adress, timeout=100)\n",
    "#         school_points[sf.records()[i][4]] = (location.latitude, location.longitude)\n",
    "#         spamwriter.writerow([sf.records()[i][4], location.latitude, location.longitude])"
   ]
  },
  {
   "cell_type": "code",
   "execution_count": 4,
   "metadata": {
    "collapsed": false
   },
   "outputs": [],
   "source": [
    "# Returns a dictionary of permit type and info\n",
    "def get_permiters_data(days_span):\n",
    "    \"\"\"\n",
    "    Process the permiters .csv file\n",
    "    :param days_span: number of days to be considered to count a permit issue\n",
    "    :return: dictionary {permit : [lon, lat, ini, end]}\n",
    "    \"\"\"\n",
    "    permiters = csv.DictReader(open(\"../Resources/Permiters.csv\", \"rb\"), delimiter=',')\n",
    "    permiters_data = {}\n",
    "    for line in permiters:\n",
    "        lon = line[\"Longitude_WGS84\"]\n",
    "        lat = line[\"Latitude_WGS84\"]\n",
    "        ini = datetime.strptime(line[\"Permit_Issuance_Date\"], '%m/%d/%y 0:00')\n",
    "        cat = line[\"Permit_Type_Description\"]\n",
    "        end = datetime.strptime(line[\"Permit_Expiration_Date\"], '%m/%d/%y 0:00')\n",
    "        span = end - ini\n",
    "        if span.days <= days_span:\n",
    "            continue\n",
    "        if permiters_data.get(cat, None) is None:\n",
    "            permiters_data[cat] = []\n",
    "        permiters_data[cat].append([(float(lat), float(lon)), span.days])\n",
    "    return permiters_data\n",
    "\n",
    "# Returns the number of constructions near a given school\n",
    "def constructions_near_school(permiters, sch_loc, dist_km):\n",
    "    \"\"\"\n",
    "    Obtains the number of constructions ocurring near some school\n",
    "    :param permiters: a list of permiters \n",
    "    :param sch_loc: the localizatin of the school\n",
    "    :param dist_km: the maximum distance between the permit and the location of the school\n",
    "    :return: the number of permiters\n",
    "    \"\"\"\n",
    "\n",
    "    points = []\n",
    "    count = 0\n",
    "    max_distance = 0.0001 # Assuming lats and longs are in decimal degrees, this corresponds to 11.1 meters\n",
    "    for permit in permiters:\n",
    "        points.append(permit[0])\n",
    "\n",
    "    tree = cKDTree(points)\n",
    "    distances, indices = tree.query(sch_loc, len(points), p=2, distance_upper_bound=max_distance)\n",
    "        \n",
    "    for index, distance in zip(indices, distances):\n",
    "        if distance == inf:\n",
    "            continue\n",
    "        count += 1 \n",
    "    \n",
    "    return count\n",
    "\n",
    "# Returns a list of school data give a grade and an year of interest\n",
    "def get_school_data(permiters, sch_grade, sch_year):\n",
    "    \"\"\"\n",
    "    Obtains school data, given some constraints\n",
    "    :param permiters: a list of permiters \n",
    "    :param sch_loc: the localizatin of the school\n",
    "    :param dist_km: the maximum distance between the permit and the location of the school\n",
    "    :return: list of school data [name, loc, nearby constructions, score test]\n",
    "    \"\"\"\n",
    "    f = csv.DictReader(open(\"../Resources/ELA.csv\", \"rb\"), delimiter=',')\n",
    "    school_data = []\n",
    "    for line in f:\n",
    "        name  = line[\"School Name\"]\n",
    "        grade = line[\"Grade\"]\n",
    "        year  = line[\"Year\"]\n",
    "        score = line[\"Mean Scale Score\"]\n",
    "        coord = school_points.get(name, None)\n",
    "        grade_cond = list(grade == sch_grade[i] for i in range(len(sch_grade)))\n",
    "        year_cond  = list(year  == sch_year[i]  for i in range(len(sch_year)))\n",
    "        if coord is not None and any(grade_cond) == True and any(year_cond) == True:\n",
    "            count_const = constructions_near_school(permiters, coord, 2)\n",
    "            school_data.append([name, coord, count_const, score])\n",
    "    return school_data"
   ]
  },
  {
   "cell_type": "code",
   "execution_count": 5,
   "metadata": {
    "collapsed": false
   },
   "outputs": [],
   "source": [
    "permiters_data = get_permiters_data(366 / 3)"
   ]
  },
  {
   "cell_type": "markdown",
   "metadata": {},
   "source": [
    "### Regression Model"
   ]
  },
  {
   "cell_type": "code",
   "execution_count": 28,
   "metadata": {
    "collapsed": false
   },
   "outputs": [],
   "source": [
    "def linear_regr(train, test):\n",
    "    \"\"\"\n",
    "    Trains a regression model\n",
    "    :param train: the train data\n",
    "    :param test: the test data\n",
    "    \"\"\"\n",
    "    train_x = numpy.array([[item[2] for item in train]]).astype(numpy.float).T\n",
    "    train_y = numpy.array([[item[3] for item in train]]).astype(numpy.float).T\n",
    "    \n",
    "    test_x = numpy.array([[item[2] for item in test]]).astype(numpy.float).T\n",
    "    test_y = numpy.array([[item[3] for item in test]]).astype(numpy.float).T\n",
    " \n",
    "    regr = linear_model.LinearRegression()\n",
    "    \n",
    "    # Train the model using the training sets\n",
    "    regr.fit(train_x, train_y)\n",
    "    \n",
    "    # The coefficients\n",
    "    print('Coefficients: \\n', regr.coef_)\n",
    "    # The mean square error\n",
    "    print(\"Residual sum of squares: %.2f\" % numpy.mean((regr.predict(test_x) - test_y) ** 2))\n",
    "    # Explained variance score: 1 is perfect prediction\n",
    "    print('Variance score: %.2f' % regr.score(test_x, test_y))\n",
    "    \n",
    "    # Plot outputs\n",
    "    plt.scatter(test_x, test_y,  color='black')\n",
    "    plt.plot(test_x, regr.predict(test_x), color='blue', linewidth=3)\n",
    "\n",
    "    plt.xlabel(\"N. Permits\")\n",
    "    plt.ylabel(\"Test Score\")\n",
    "\n",
    "    plt.show()"
   ]
  },
  {
   "cell_type": "code",
   "execution_count": 7,
   "metadata": {
    "collapsed": false
   },
   "outputs": [],
   "source": [
    "# Regression for all permit categories\n",
    "\n",
    "permiters_data = list(itertools.chain(*permiters_data.values()))"
   ]
  },
  {
   "cell_type": "code",
   "execution_count": 8,
   "metadata": {
    "collapsed": false
   },
   "outputs": [],
   "source": [
    "school_train = get_school_data(permiters_data, [\"All Grades\"], [\"2013\", \"2014\"])"
   ]
  },
  {
   "cell_type": "code",
   "execution_count": 9,
   "metadata": {
    "collapsed": true
   },
   "outputs": [],
   "source": [
    "school_test = get_school_data(permiters_data, [\"All Grades\"], [\"2015\"])"
   ]
  },
  {
   "cell_type": "code",
   "execution_count": 10,
   "metadata": {
    "collapsed": false
   },
   "outputs": [
    {
     "name": "stdout",
     "output_type": "stream",
     "text": [
      "Number of train samples: 1852\n",
      "Number of test samples: 929\n"
     ]
    }
   ],
   "source": [
    "print \"Number of train samples:\", len(school_train)\n",
    "print \"Number of test samples:\", len(school_test)"
   ]
  },
  {
   "cell_type": "code",
   "execution_count": 29,
   "metadata": {
    "collapsed": false
   },
   "outputs": [
    {
     "name": "stdout",
     "output_type": "stream",
     "text": [
      "(1852, 1) (1852, 1)\n",
      "(929, 1) (929, 1)\n",
      "('Coefficients: \\n', array([[-0.00103521]]))\n",
      "Residual sum of squares: 290.75\n",
      "Variance score: -0.00\n"
     ]
    },
    {
     "data": {
      "image/png": "[encoded data removed]",
      "text/plain": [
       "<matplotlib.figure.Figure at 0x10ec01f50>"
      ]
     },
     "metadata": {},
     "output_type": "display_data"
    }
   ],
   "source": [
    "linear_regr(school_train, school_test)"
   ]
  },
  {
   "cell_type": "code",
   "execution_count": null,
   "metadata": {
    "collapsed": true
   },
   "outputs": [],
   "source": []
  }
 ],
 "metadata": {
  "kernelspec": {
   "display_name": "Python 2",
   "language": "python",
   "name": "python2"
  },
  "language_info": {
   "codemirror_mode": {
    "name": "ipython",
    "version": 2
   },
   "file_extension": ".py",
   "mimetype": "text/x-python",
   "name": "python",
   "nbconvert_exporter": "python",
   "pygments_lexer": "ipython2",
   "version": "2.7.11"
  }
 },
 "nbformat": 4,
 "nbformat_minor": 0
}
