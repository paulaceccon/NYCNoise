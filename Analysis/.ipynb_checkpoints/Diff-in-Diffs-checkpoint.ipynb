{
 "cells": [
  {
   "cell_type": "markdown",
   "metadata": {},
   "source": [
    "# An Initial Study about the Impact of Planned Construction on School Test Reports\n",
    "\n",
    "## Data Sources:\n",
    "\n",
    "- [NYC Test Results](http://schools.nyc.gov/Accountability/data/default.htm)\n",
    "- [NYC School Point Locations](https://data.cityofnewyork.us/Education/School-Point-Locations/jfju-ynrr)\n",
    "- [NYC Multi Agency Permits](https://data.cityofnewyork.us/City-Government/Multi-Agency-Permits/xfyi-uyt5)\n",
    "\n",
    "## Test Results:\n",
    "\n",
    "This data contains test results for all NYC schools, and it is strutured as the following:\n",
    "\n",
    "| School Name | Grade | Year | Number Tested | Mean Scale Score | # | % | # | % | # | % | \n",
    "\n",
    "## Strategy\n",
    "\n",
    "For each school with coordinates *P*, filter the scheduled constructions given a certain radius *R* from *P*. Given that the **NYC Test Results** contains one test per year and the **NYC Multi Agency Permits** contains scheduled permits with varied ranges of duration, it is also necessary to filter the permits given an specified period of time. i.e., permits that last a certain amount of time.\n",
    "\n",
    "To study the effects of the schedule constructions on the tests scores, we will use the **Difference in Differences** statistical technique. The control group will be the set of schools that have a small number of constructions happening in its neighborhood. On the other hand, the treatment group will be set of schools in which neighborhood a bigger number of constructions are scheculed to happen.\n",
    "\n",
    "---"
   ]
  },
  {
   "cell_type": "markdown",
   "metadata": {},
   "source": [
    "# Code\n",
    "\n",
    "- Imports"
   ]
  },
  {
   "cell_type": "code",
   "execution_count": 1,
   "metadata": {
    "collapsed": false
   },
   "outputs": [],
   "source": [
    "%matplotlib inline\n",
    "\n",
    "import csv\n",
    "import matplotlib\n",
    "import matplotlib.pyplot as plt\n",
    "import itertools\n",
    "import numpy\n",
    "import statsmodels.api as sm\n",
    "\n",
    "from scipy.spatial import cKDTree\n",
    "from scipy import inf\n",
    "from datetime import datetime, date, timedelta\n",
    "from collections import OrderedDict"
   ]
  },
  {
   "cell_type": "markdown",
   "metadata": {},
   "source": [
    "- Data / Pre-processing"
   ]
  },
  {
   "cell_type": "code",
   "execution_count": 2,
   "metadata": {
    "collapsed": true
   },
   "outputs": [],
   "source": [
    "# Gets all schools' locations\n",
    "def get_school_loc():\n",
    "    \"\"\"\n",
    "    Process the schools locations .csv file\n",
    "    :return: dictionary {school_name : (lon, lat)}\n",
    "    \"\"\"\n",
    "    school_points = {}\n",
    "    \n",
    "    school_loc = csv.reader(open(\"../Resources/School_locations.csv\", \"rb\"), delimiter=',')\n",
    "    for line in school_loc:\n",
    "        school_points[line[0]] = (line[1], line[2])\n",
    "    \n",
    "    return school_points\n",
    "\n",
    "# Gets permits given a desired duration\n",
    "def get_permiters_data(year, span_days):\n",
    "    \"\"\"\n",
    "    Process the permiters .csv file\n",
    "    :param year: year of interest\n",
    "    :param span_days: days that a permit have to last to be considered\n",
    "    :return: dictionary {permit : [lon, lat, ini, end]}\n",
    "    \"\"\"\n",
    "    permiters_data = {}\n",
    "    \n",
    "    permiters = csv.DictReader(open(\"../Resources/Permiters.csv\", \"rb\"), delimiter=',')\n",
    "    for line in permiters:\n",
    "        lon = line[\"Longitude_WGS84\"]\n",
    "        lat = line[\"Latitude_WGS84\"]\n",
    "        cat = line[\"Permit_Type_Description\"]\n",
    "        ini = parseDate(line[\"Permit_Issuance_Date\"])\n",
    "        end = parseDate(line[\"Permit_Expiration_Date\"])\n",
    "        # Filter permits by year of interest\n",
    "        if ini.year > year or end.year < year:\n",
    "            continue\n",
    "        # Filter permits by duration\n",
    "        if check_duration(ini, end, year) < span_days:\n",
    "            continue\n",
    "        # Fills dictionary by permit categories\n",
    "        if permiters_data.get(cat, None) is None:\n",
    "            permiters_data[cat] = []\n",
    "        permiters_data[cat].append([(float(lat), float(lon)), ini, end])\n",
    "    \n",
    "    return permiters_data\n",
    "\n",
    "def parseDate(date):\n",
    "    DATE_FORMATS = ['%Y-%m-%d', '%m/%d/%Y %H:%M:%S', '%m/%d/%Y %I:%M:%S %p']\n",
    "    parsed = None\n",
    "    for date_format in DATE_FORMATS:\n",
    "        try:\n",
    "            parsed = datetime.strptime(date, date_format)\n",
    "        except ValueError:\n",
    "            pass\n",
    "        \n",
    "    return parsed\n",
    "\n",
    "def check_duration(ini, end, year):\n",
    "    \"\"\"\n",
    "    Check how long a permit was allowed to last\n",
    "    :param ini: permit issuance date\n",
    "    :param end: permit expiration date\n",
    "    :param year: year of interest\n",
    "    \"\"\"\n",
    "    if ini.year == year and end.year == year:\n",
    "        return (end - ini).days\n",
    "    elif ini.year == year and end.year > year:\n",
    "        return (datetime(year, 12, 31) - ini).days\n",
    "    elif ini.year < year and end.year == year:\n",
    "        return (end - datetime(year, 01, 01)).days\n",
    "    elif ini.year < year and end.year > year:\n",
    "        return (datetime(year, 12, 31) - datetime(year, 01, 01)).days"
   ]
  },
  {
   "cell_type": "markdown",
   "metadata": {},
   "source": [
    "- Filtering"
   ]
  },
  {
   "cell_type": "code",
   "execution_count": 3,
   "metadata": {
    "collapsed": true
   },
   "outputs": [],
   "source": [
    "# Builds a kd-tree based on the permits' locations\n",
    "def build_permits_kd_tree(permits):\n",
    "    \"\"\"\n",
    "    Constructs a kd-tree of points defined by the localization of the permits\n",
    "    :param permits: dictionary {permit : [(lon, lat), ini, end]}\n",
    "    :return: a kd-tree instance\n",
    "    \"\"\"\n",
    "    points = []\n",
    "    for permit in permits:\n",
    "        points.append(permit[0])\n",
    "    tree = cKDTree(points)\n",
    "    \n",
    "    return tree\n",
    "    \n",
    "\n",
    "# Returns the number of constructions near a given school\n",
    "def constructions_near_school(kd_tree, sch_loc, dist_km):\n",
    "    \"\"\"\n",
    "    Obtains the number of constructions ocurring near some school\n",
    "    :param kd_tree: a kd-tree built based on permits locations\n",
    "    :param sch_loc: the localizatin of the school\n",
    "    :param dist_km: the maximum distance between the permit and the location of the school\n",
    "    :return: the number of permits near a specific school \n",
    "    \"\"\"\n",
    "    count = 0\n",
    "    # At the equator, one degree of longitude and latitude both cover about 111 kilometers\n",
    "    degree_to_km = 1.0/111\n",
    "    max_distance = degree_to_km * dist_km\n",
    "    \n",
    "    distances, indices = kd_tree.query(sch_loc, kd_tree.n, p=2, distance_upper_bound=max_distance)\n",
    "        \n",
    "    for index, distance in zip(indices, distances):\n",
    "        if distance == inf:\n",
    "            continue\n",
    "        count += 1 \n",
    "    \n",
    "    return count\n",
    "\n",
    "# Returns a list of school data give a grade and an year of interest\n",
    "def get_school_data(permits, sch_grade, sch_year, dist_km):\n",
    "    \"\"\"\n",
    "    Obtains school data, given some constraints\n",
    "    :param permits: a list of permiters \n",
    "    :param sch_grade: the grade of interest\n",
    "    :param sch_year: the year of interest\n",
    "    :param dist_km: the maximum distance between the permit and the location of the school\n",
    "    :return: list of school data [name, loc, count, score, control]\n",
    "    \"\"\"\n",
    "    f = csv.DictReader(open(\"../Resources/ELA.csv\", \"rb\"), delimiter=',')\n",
    "    school_data = []\n",
    "    kd_tree = build_permits_kd_tree(permits)\n",
    "    for line in f:\n",
    "        name  = line[\"School Name\"]\n",
    "        grade = line[\"Grade\"]\n",
    "        year  = line[\"Year\"]\n",
    "        score = line[\"Mean Scale Score\"]\n",
    "        coord = school_points.get(name, None)\n",
    "        grade_cond = (grade == sch_grade)\n",
    "        year_cond  = (year  == sch_year)\n",
    "        if coord is not None and grade_cond == True and year_cond == True:\n",
    "            count = constructions_near_school(kd_tree, coord, dist_km)\n",
    "            school_data.append([name, coord, count, score])\n",
    "    \n",
    "    return school_data"
   ]
  },
  {
   "cell_type": "markdown",
   "metadata": {},
   "source": [
    "- OLS Regression"
   ]
  },
  {
   "cell_type": "code",
   "execution_count": null,
   "metadata": {
    "collapsed": true
   },
   "outputs": [],
   "source": [
    "def reg_ols(y, x):\n",
    "    \"\"\"\n",
    "    Performs an OLS regression\n",
    "    :param x: observations\n",
    "    :param y: dependent variable\n",
    "    \"\"\"\n",
    "#     y = [1,2,3,4,3,4,5,4,5,5,4,5,4,5,4,5,6,5,4,5,4,3,4]\n",
    "#     x = [\n",
    "#          [4,2,3,4,5,4,5,6,7,4,8,9,8,8,6,6,5,5,5,5,5,5,5],\n",
    "#          [4,1,2,3,4,5,6,7,5,8,7,8,7,8,7,8,7,7,7,7,7,6,5],\n",
    "#          [4,1,2,5,6,7,8,9,7,8,7,8,7,7,7,7,7,7,6,6,4,4,4]\n",
    "#         ]\n",
    "    x = numpy.array(x).T\n",
    "    x = sm.add_constant(x)\n",
    "    # http://statsmodels.sourceforge.net/devel/generated/statsmodels.regression.linear_model.OLS.html\n",
    "    results = sm.OLS(endog=y, exog=x).fit()\n",
    "    \n",
    "    print reg_m(y, x).summary()\n",
    "    \n",
    "    return results"
   ]
  },
  {
   "cell_type": "markdown",
   "metadata": {},
   "source": [
    "- Visualization"
   ]
  },
  {
   "cell_type": "code",
   "execution_count": 4,
   "metadata": {
    "collapsed": false
   },
   "outputs": [],
   "source": [
    "def visualize_points(x, y, style, x_label, y_label, title):\n",
    "    \"\"\"\n",
    "    Visualize a set of x,y points\n",
    "    :param x: list of x coordinates\n",
    "    :param y: list of y coordinates:\n",
    "    :param style: style to be used\n",
    "    :param x_label: label for the x axis\n",
    "    :param y_label: label for the y axis\n",
    "    :param title: title for the plot\n",
    "    \"\"\"\n",
    "    plt.figure(figsize=(15, 7)) \n",
    "    plt.plot(x, y, style)\n",
    "    plt.title(title)\n",
    "    plt.xlabel(x_label)\n",
    "    plt.ylabel(y_label)\n",
    "    plt.xlim(0, max(x)+1)\n",
    "\n",
    "    plt.show()"
   ]
  },
  {
   "cell_type": "markdown",
   "metadata": {
    "collapsed": true
   },
   "source": [
    "- Global Variables"
   ]
  },
  {
   "cell_type": "code",
   "execution_count": 5,
   "metadata": {
    "collapsed": true
   },
   "outputs": [],
   "source": [
    "school_points = get_school_loc()"
   ]
  },
  {
   "cell_type": "markdown",
   "metadata": {},
   "source": [
    "- 2013 Data"
   ]
  },
  {
   "cell_type": "code",
   "execution_count": 6,
   "metadata": {
    "collapsed": false
   },
   "outputs": [],
   "source": [
    "# All permits, not matter the duration\n",
    "permits_2013 = get_permiters_data(2013, 0)"
   ]
  },
  {
   "cell_type": "code",
   "execution_count": 7,
   "metadata": {
    "collapsed": false,
    "scrolled": false
   },
   "outputs": [],
   "source": [
    "permits = list(itertools.chain(*permits_2013.values()))\n",
    "data_2013 = get_school_data(permits, \"All Grades\", \"2013\", 0.1)"
   ]
  },
  {
   "cell_type": "markdown",
   "metadata": {},
   "source": [
    "- 2014 Data"
   ]
  },
  {
   "cell_type": "code",
   "execution_count": 8,
   "metadata": {
    "collapsed": true
   },
   "outputs": [],
   "source": [
    "permits_2014 = get_permiters_data(2014, 0)"
   ]
  },
  {
   "cell_type": "code",
   "execution_count": 9,
   "metadata": {
    "collapsed": false
   },
   "outputs": [],
   "source": [
    "permits = list(itertools.chain(*permits_2014.values()))\n",
    "data_2014 = get_school_data(permits, \"All Grades\", \"2014\", 0.1)"
   ]
  },
  {
   "cell_type": "markdown",
   "metadata": {},
   "source": [
    "- 2015 Data"
   ]
  },
  {
   "cell_type": "code",
   "execution_count": 10,
   "metadata": {
    "collapsed": false
   },
   "outputs": [
    {
     "ename": "ValueError",
     "evalue": "could not convert string to float: noCommas\":\"false\"}",
     "output_type": "error",
     "traceback": [
      "\u001b[0;31m---------------------------------------------------------------------------\u001b[0m",
      "\u001b[0;31mValueError\u001b[0m                                Traceback (most recent call last)",
      "\u001b[0;32m<ipython-input-10-db63b29f452b>\u001b[0m in \u001b[0;36m<module>\u001b[0;34m()\u001b[0m\n\u001b[0;32m----> 1\u001b[0;31m \u001b[0mpermits_2015\u001b[0m \u001b[0;34m=\u001b[0m \u001b[0mget_permiters_data\u001b[0m\u001b[0;34m(\u001b[0m\u001b[0;36m2015\u001b[0m\u001b[0;34m,\u001b[0m \u001b[0;36m0\u001b[0m\u001b[0;34m)\u001b[0m\u001b[0;34m\u001b[0m\u001b[0m\n\u001b[0m",
      "\u001b[0;32m<ipython-input-2-b4242bfd4900>\u001b[0m in \u001b[0;36mget_permiters_data\u001b[0;34m(year, span_days)\u001b[0m\n\u001b[1;32m     39\u001b[0m         \u001b[0;32mif\u001b[0m \u001b[0mpermiters_data\u001b[0m\u001b[0;34m.\u001b[0m\u001b[0mget\u001b[0m\u001b[0;34m(\u001b[0m\u001b[0mcat\u001b[0m\u001b[0;34m,\u001b[0m \u001b[0mNone\u001b[0m\u001b[0;34m)\u001b[0m \u001b[0;32mis\u001b[0m \u001b[0mNone\u001b[0m\u001b[0;34m:\u001b[0m\u001b[0;34m\u001b[0m\u001b[0m\n\u001b[1;32m     40\u001b[0m             \u001b[0mpermiters_data\u001b[0m\u001b[0;34m[\u001b[0m\u001b[0mcat\u001b[0m\u001b[0;34m]\u001b[0m \u001b[0;34m=\u001b[0m \u001b[0;34m[\u001b[0m\u001b[0;34m]\u001b[0m\u001b[0;34m\u001b[0m\u001b[0m\n\u001b[0;32m---> 41\u001b[0;31m         \u001b[0mpermiters_data\u001b[0m\u001b[0;34m[\u001b[0m\u001b[0mcat\u001b[0m\u001b[0;34m]\u001b[0m\u001b[0;34m.\u001b[0m\u001b[0mappend\u001b[0m\u001b[0;34m(\u001b[0m\u001b[0;34m[\u001b[0m\u001b[0;34m(\u001b[0m\u001b[0mfloat\u001b[0m\u001b[0;34m(\u001b[0m\u001b[0mlat\u001b[0m\u001b[0;34m)\u001b[0m\u001b[0;34m,\u001b[0m \u001b[0mfloat\u001b[0m\u001b[0;34m(\u001b[0m\u001b[0mlon\u001b[0m\u001b[0;34m)\u001b[0m\u001b[0;34m)\u001b[0m\u001b[0;34m,\u001b[0m \u001b[0mini\u001b[0m\u001b[0;34m,\u001b[0m \u001b[0mend\u001b[0m\u001b[0;34m]\u001b[0m\u001b[0;34m)\u001b[0m\u001b[0;34m\u001b[0m\u001b[0m\n\u001b[0m\u001b[1;32m     42\u001b[0m \u001b[0;34m\u001b[0m\u001b[0m\n\u001b[1;32m     43\u001b[0m     \u001b[0;32mreturn\u001b[0m \u001b[0mpermiters_data\u001b[0m\u001b[0;34m\u001b[0m\u001b[0m\n",
      "\u001b[0;31mValueError\u001b[0m: could not convert string to float: noCommas\":\"false\"}"
     ]
    }
   ],
   "source": [
    "permits_2015 = get_permiters_data(2015, 0)"
   ]
  },
  {
   "cell_type": "code",
   "execution_count": null,
   "metadata": {
    "collapsed": true
   },
   "outputs": [],
   "source": [
    "permits = list(itertools.chain(*permits_2015.values()))\n",
    "data_2015 = get_school_data(permits, \"All Grades\", \"2015\", 0.1)"
   ]
  },
  {
   "cell_type": "markdown",
   "metadata": {},
   "source": [
    "# Visualization"
   ]
  },
  {
   "cell_type": "code",
   "execution_count": null,
   "metadata": {
    "collapsed": false
   },
   "outputs": [],
   "source": [
    "y = sorted(data_2013, key=lambda x: x[0])\n",
    "x = range(1, len(y)+1)\n",
    "\n",
    "# Permits / School\n",
    "y_1 = [item[2] for item in y]\n",
    "\n",
    "visualize_points(x, y_1, 'b-', 'School ID', 'Permits', 'Number of permits per school in 2013 (radius = 100m)')\n",
    "\n",
    "# Score / School \n",
    "y_2 = [item[3] for item in y]\n",
    "visualize_points(x, y_2, 'b-', 'School ID', 'Score', 'Score per school in 2013 (radius = 100m)')\n",
    "\n",
    "# Score / Permits\n",
    "x_3 = y_1\n",
    "y_3 = y_2\n",
    "visualize_points(x_3, y_3, 'bo', 'Permits', 'Score', 'Score vs. Permits in 2013 (radius = 100m)')"
   ]
  },
  {
   "cell_type": "code",
   "execution_count": null,
   "metadata": {
    "collapsed": false
   },
   "outputs": [],
   "source": [
    "y = sorted(data_2014, key=lambda x: x[0])\n",
    "x = range(1, len(y)+1)\n",
    "\n",
    "# Permits / School\n",
    "y_1 = [item[2] for item in y]\n",
    "\n",
    "visualize_points(x, y_1, 'b-', 'School ID', 'Permits', 'Number of permits per school in 2014 (radius = 100m)')\n",
    "\n",
    "# Score / School \n",
    "y_2 = [item[3] for item in y]\n",
    "visualize_points(x, y_2, 'b-', 'School ID', 'Score', 'Score per school in 2014 (radius = 100m)')\n",
    "\n",
    "# Score / Permits\n",
    "x_3 = y_1\n",
    "y_3 = y_2\n",
    "visualize_points(x_3, y_3, 'bo', 'Permits', 'Score', 'Score vs. Permits in 2014 (radius = 100m)')"
   ]
  },
  {
   "cell_type": "code",
   "execution_count": null,
   "metadata": {
    "collapsed": true
   },
   "outputs": [],
   "source": [
    "y = sorted(data_2015, key=lambda x: x[0])\n",
    "x = range(1, len(y)+1)\n",
    "\n",
    "# Permits / School\n",
    "y_1 = [item[2] for item in y]\n",
    "\n",
    "visualize_points(x, y_1, 'b-', 'School ID', 'Permits', 'Number of permits per school in 2015 (radius = 100m)')\n",
    "\n",
    "# Score / School \n",
    "y_2 = [item[3] for item in y]\n",
    "visualize_points(x, y_2, 'b-', 'School ID', 'Score', 'Score per school in 2015 (radius = 100m)')\n",
    "\n",
    "# Score / Permits\n",
    "x_3 = y_1\n",
    "y_3 = y_2\n",
    "visualize_points(x_3, y_3, 'bo', 'Permits', 'Score', 'Score vs. Permits in 2015 (radius = 100m)')"
   ]
  }
 ],
 "metadata": {
  "kernelspec": {
   "display_name": "Python 2",
   "language": "python",
   "name": "python2"
  },
  "language_info": {
   "codemirror_mode": {
    "name": "ipython",
    "version": 2
   },
   "file_extension": ".py",
   "mimetype": "text/x-python",
   "name": "python",
   "nbconvert_exporter": "python",
   "pygments_lexer": "ipython2",
   "version": "2.7.11"
  }
 },
 "nbformat": 4,
 "nbformat_minor": 0
}
