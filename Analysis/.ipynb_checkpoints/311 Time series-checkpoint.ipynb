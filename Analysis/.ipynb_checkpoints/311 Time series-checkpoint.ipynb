{
 "cells": [
  {
   "cell_type": "markdown",
   "metadata": {},
   "source": [
    "# Analyzing 311 Noise Complaints Data"
   ]
  },
  {
   "cell_type": "code",
   "execution_count": 1,
   "metadata": {
    "collapsed": true
   },
   "outputs": [],
   "source": [
    "import urllib2, json, csv\n",
    "import requests\n",
    "import itertools\n",
    "import numpy\n",
    "\n",
    "from shapely.geometry import shape, Point\n",
    "from rtree import index\n",
    "from datetime import datetime, date, timedelta\n",
    "\n",
    "######################### UTILS #########################\n",
    "def readJson(url):\n",
    "    \"\"\"\n",
    "    Read a json file.\n",
    "    :param url: url to be read.\n",
    "    :return: a json file.\n",
    "    \"\"\"\n",
    "    try:\n",
    "        response = urllib2.urlopen(url)\n",
    "        return json.loads(response.read(), strict=False)\n",
    "    except urllib2.HTTPError as e:\n",
    "        return None\n",
    "    \n",
    "def roundTime(dt=None, roundTo=60):\n",
    "   \"\"\"\n",
    "   Round a datetime object to any time laps in seconds\n",
    "   :param dt: datetime.datetime object, default now.\n",
    "   :param roundTo: closest number of seconds to round to, default 1 minute.\n",
    "   :return: the rounded time.\n",
    "   \"\"\"\n",
    "   if dt == None : dt = datetime.now()\n",
    "   seconds = (dt - dt.min).seconds\n",
    "   rounding = (seconds+roundTo/2) // roundTo * roundTo\n",
    "   return dt + timedelta(0, rounding-seconds, -dt.microsecond)\n",
    "\n",
    "######################### DATA #########################\n",
    "def getRegions():\n",
    "    \"\"\"\n",
    "    Get the community districts of NY.\n",
    "    :return: dictionary { region id : coordinates}.\n",
    "    \"\"\"\n",
    "    dict = {}\n",
    "\n",
    "    url = \"https://nycdatastables.s3.amazonaws.com/2013-08-19T18:22:23.125Z/community-districts-polygon.geojson\"\n",
    "    data = readJson(url)\n",
    "    for district in data['features']:\n",
    "        dict[district['id']] = shape(district['geometry'])\n",
    "\n",
    "    return dict\n",
    "\n",
    "def get311NoiseComplaints():\n",
    "    \"\"\"\n",
    "    Gets all noise complaints of NY in a date range.\n",
    "    :return: dictionary {complaint type : total number of complaints of this type} and \n",
    "             dictionary {complaint type : (long/lat, hour, complaint type)}.\n",
    "    \"\"\"\n",
    "    query_string = \"http://data.cityofnewyork.us/resource/fhrw-4uyv.json\"\n",
    "    query_string += \"?\"\n",
    "    query_string += \"$where=\"\n",
    "    query_string += \"(complaint_type like '%Noise%')\"\n",
    "    query_string += \" AND \"\n",
    "    query_string += \"(created_date>='\" + date_ini + \"')\"\n",
    "    query_string += \" AND \"\n",
    "    query_string += \"(created_date<='\" + date_end + \"')\"\n",
    "    query_string += \"&$group=descriptor,latitude,longitude,created_date\"\n",
    "    query_string += \"&$select=descriptor,latitude,longitude,created_date\"\n",
    "\n",
    "    result = requests.get(query_string).json()\n",
    "\n",
    "    # Dictionary of complaints\n",
    "    complaints = {'Air Condition/Ventilation Equipment': 0, 'Alarms': 0,\n",
    "                  'Banging/Pounding': 0, 'Barking Dog': 0, 'Car/Truck Horn': 0,\n",
    "                  'Car/Truck Music': 0, 'Construction Equipment': 0,\n",
    "                  'Construction Before/After Hours': 0, 'Engine Idling': 0,\n",
    "                  'Ice Cream Truck': 0, 'Jack Hammering': 0, 'Lawn Care Equipment': 0,\n",
    "                  'Loud Music/Party': 0, 'Loud Talking': 0, 'Loud Television': 0,\n",
    "                  'Manufacturing Noise': 0, 'Others': 0, 'Private Carting Noise': 0}\n",
    "\n",
    "    complaints_loc = {}\n",
    "    for key in complaints:\n",
    "        complaints_loc[key] = []\n",
    "\n",
    "    for record in result:\n",
    "        for key in complaints:\n",
    "            date = record.get('created_date')\n",
    "            long = record.get('longitude')\n",
    "            lat = record.get('latitude')\n",
    "            if date is not None and long is not None and lat is not None:\n",
    "                time = roundTime(datetime.strptime(date, '%Y-%m-%dT%H:%M:%S.000'), roundTo=60 * 60)\n",
    "                if time.weekday():\n",
    "                    if key.find(record.get('descriptor')) > -1:\n",
    "                        complaints[key] += 1\n",
    "                        complaints_loc[key].append((float(str(long)), float(str(lat)), time, key))\n",
    "                        break\n",
    "                    elif key == \"Others\":\n",
    "                        complaints[key] += 1\n",
    "                        complaints_loc[key].append((float(str(long)), float(str(lat)), time, key))\n",
    "\n",
    "    return complaints, complaints_loc\n",
    "\n",
    "######################### FILTER BY REGION #########################\n",
    "def pointInPolygon(polyDict, points):\n",
    "    \"\"\"\n",
    "    Defines which points are inside which regions.\n",
    "    :param polyDict: dictionary {region id : polygon}.\n",
    "    :param points: list of tuples (long, lat).\n",
    "    :return: dictionaries {region id : number of points} and {region id : points}.\n",
    "    \"\"\"\n",
    "    dict_count = {}\n",
    "    dict_points = {}\n",
    "\n",
    "    polygons = []\n",
    "    # Populate R-tree index with bounds of polygons\n",
    "    idx = index.Index()\n",
    "    for pos, poly in enumerate(polyDict):\n",
    "        dict_count[poly] = 0\n",
    "        dict_points[poly] = []\n",
    "        polygon = shape(polyDict[poly])\n",
    "        polygons.append(polygon)\n",
    "        idx.insert(pos, polygon.bounds)\n",
    "\n",
    "    for i, p in enumerate(points):\n",
    "        point = Point(p[0], p[1])\n",
    "        # Iterate through spatial index\n",
    "        for j in idx.intersection(point.coords[0]):\n",
    "            if point.within(polygons[j]):\n",
    "                dict_count[j] += 1\n",
    "                dict_points[j].append(p)\n",
    "\n",
    "    return dict_count, dict_points\n",
    "\n",
    "def complaintsPerRegion(regions, complaints):\n",
    "    \"\"\"\n",
    "    Obtain the total number of complaints that falls in a reiong, per hour.\n",
    "    :param regions: dictionary {region id : polygon}.\n",
    "    :param complaints: dictionary {complaint type : (long, lat, hour)}.\n",
    "    return: dictionary {region id : (long/lat, hour, complaint type)}\n",
    "    \"\"\"\n",
    "    values = list(itertools.chain.from_iterable(complaints.values()))\n",
    "    complaints_per_region, complaints_per_region_points = pointInPolygon(regions, values)\n",
    "\n",
    "    return complaints_per_region_points"
   ]
  },
  {
   "cell_type": "code",
   "execution_count": 3,
   "metadata": {
    "collapsed": false
   },
   "outputs": [
    {
     "name": "stdout",
     "output_type": "stream",
     "text": [
      "-----> Date Range: 2015-01-01 2015-12-31\n",
      "-----> Number of regions: 149\n",
      "-----> 877 complaints\n"
     ]
    },
    {
     "ename": "TypeError",
     "evalue": "a float is required",
     "output_type": "error",
     "traceback": [
      "\u001b[0;31m---------------------------------------------------------------------------\u001b[0m",
      "\u001b[0;31mTypeError\u001b[0m                                 Traceback (most recent call last)",
      "\u001b[0;32m<ipython-input-3-9157aa52f0fe>\u001b[0m in \u001b[0;36m<module>\u001b[0;34m()\u001b[0m\n\u001b[1;32m     10\u001b[0m     \u001b[0mcomplaints\u001b[0m\u001b[0;34m,\u001b[0m \u001b[0mcomplaints_loc\u001b[0m \u001b[0;34m=\u001b[0m \u001b[0mget311NoiseComplaints\u001b[0m\u001b[0;34m(\u001b[0m\u001b[0;34m)\u001b[0m\u001b[0;34m\u001b[0m\u001b[0m\n\u001b[1;32m     11\u001b[0m     \u001b[0;32mprint\u001b[0m \u001b[0;34m\"----->\"\u001b[0m\u001b[0;34m,\u001b[0m \u001b[0msum\u001b[0m\u001b[0;34m(\u001b[0m\u001b[0;34m[\u001b[0m\u001b[0mv\u001b[0m \u001b[0;32mfor\u001b[0m \u001b[0mv\u001b[0m \u001b[0;32min\u001b[0m \u001b[0mcomplaints\u001b[0m\u001b[0;34m.\u001b[0m\u001b[0mvalues\u001b[0m\u001b[0;34m(\u001b[0m\u001b[0;34m)\u001b[0m\u001b[0;34m]\u001b[0m\u001b[0;34m)\u001b[0m\u001b[0;34m,\u001b[0m \u001b[0;34m\"complaints\"\u001b[0m\u001b[0;34m\u001b[0m\u001b[0m\n\u001b[0;32m---> 12\u001b[0;31m     \u001b[0mcomplaints_region_time\u001b[0m \u001b[0;34m=\u001b[0m \u001b[0mcomplaintsPerRegion\u001b[0m\u001b[0;34m(\u001b[0m\u001b[0mregions_bbox\u001b[0m\u001b[0;34m,\u001b[0m \u001b[0mcomplaints_loc\u001b[0m\u001b[0;34m)\u001b[0m\u001b[0;34m\u001b[0m\u001b[0m\n\u001b[0m",
      "\u001b[0;32m<ipython-input-1-ea4e039423fc>\u001b[0m in \u001b[0;36mcomplaintsPerRegion\u001b[0;34m(regions, complaints)\u001b[0m\n\u001b[1;32m    137\u001b[0m     \"\"\"\n\u001b[1;32m    138\u001b[0m     \u001b[0mvalues\u001b[0m \u001b[0;34m=\u001b[0m \u001b[0mlist\u001b[0m\u001b[0;34m(\u001b[0m\u001b[0mitertools\u001b[0m\u001b[0;34m.\u001b[0m\u001b[0mchain\u001b[0m\u001b[0;34m.\u001b[0m\u001b[0mfrom_iterable\u001b[0m\u001b[0;34m(\u001b[0m\u001b[0mcomplaints\u001b[0m\u001b[0;34m.\u001b[0m\u001b[0mvalues\u001b[0m\u001b[0;34m(\u001b[0m\u001b[0;34m)\u001b[0m\u001b[0;34m)\u001b[0m\u001b[0;34m)\u001b[0m\u001b[0;34m\u001b[0m\u001b[0m\n\u001b[0;32m--> 139\u001b[0;31m     \u001b[0mcomplaints_per_region\u001b[0m\u001b[0;34m,\u001b[0m \u001b[0mcomplaints_per_region_points\u001b[0m \u001b[0;34m=\u001b[0m \u001b[0mpointInPolygon\u001b[0m\u001b[0;34m(\u001b[0m\u001b[0mregions\u001b[0m\u001b[0;34m,\u001b[0m \u001b[0mvalues\u001b[0m\u001b[0;34m)\u001b[0m\u001b[0;34m\u001b[0m\u001b[0m\n\u001b[0m\u001b[1;32m    140\u001b[0m \u001b[0;34m\u001b[0m\u001b[0m\n\u001b[1;32m    141\u001b[0m     \u001b[0;32mreturn\u001b[0m \u001b[0mcomplaints_per_region_points\u001b[0m\u001b[0;34m\u001b[0m\u001b[0m\n",
      "\u001b[0;32m<ipython-input-1-ea4e039423fc>\u001b[0m in \u001b[0;36mpointInPolygon\u001b[0;34m(polyDict, points)\u001b[0m\n\u001b[1;32m    120\u001b[0m \u001b[0;34m\u001b[0m\u001b[0m\n\u001b[1;32m    121\u001b[0m     \u001b[0;32mfor\u001b[0m \u001b[0mi\u001b[0m\u001b[0;34m,\u001b[0m \u001b[0mp\u001b[0m \u001b[0;32min\u001b[0m \u001b[0menumerate\u001b[0m\u001b[0;34m(\u001b[0m\u001b[0mpoints\u001b[0m\u001b[0;34m)\u001b[0m\u001b[0;34m:\u001b[0m\u001b[0;34m\u001b[0m\u001b[0m\n\u001b[0;32m--> 122\u001b[0;31m         \u001b[0mpoint\u001b[0m \u001b[0;34m=\u001b[0m \u001b[0mPoint\u001b[0m\u001b[0;34m(\u001b[0m\u001b[0mp\u001b[0m\u001b[0;34m[\u001b[0m\u001b[0;36m0\u001b[0m\u001b[0;34m]\u001b[0m\u001b[0;34m,\u001b[0m \u001b[0mp\u001b[0m\u001b[0;34m[\u001b[0m\u001b[0;36m1\u001b[0m\u001b[0;34m]\u001b[0m\u001b[0;34m)\u001b[0m\u001b[0;34m\u001b[0m\u001b[0m\n\u001b[0m\u001b[1;32m    123\u001b[0m         \u001b[0;31m# Iterate through spatial index\u001b[0m\u001b[0;34m\u001b[0m\u001b[0;34m\u001b[0m\u001b[0m\n\u001b[1;32m    124\u001b[0m         \u001b[0;32mfor\u001b[0m \u001b[0mj\u001b[0m \u001b[0;32min\u001b[0m \u001b[0midx\u001b[0m\u001b[0;34m.\u001b[0m\u001b[0mintersection\u001b[0m\u001b[0;34m(\u001b[0m\u001b[0mpoint\u001b[0m\u001b[0;34m.\u001b[0m\u001b[0mcoords\u001b[0m\u001b[0;34m[\u001b[0m\u001b[0;36m0\u001b[0m\u001b[0;34m]\u001b[0m\u001b[0;34m)\u001b[0m\u001b[0;34m:\u001b[0m\u001b[0;34m\u001b[0m\u001b[0m\n",
      "\u001b[0;32m/Library/Python/2.7/site-packages/shapely/geometry/point.pyc\u001b[0m in \u001b[0;36m__init__\u001b[0;34m(self, *args)\u001b[0m\n\u001b[1;32m     47\u001b[0m         \u001b[0mBaseGeometry\u001b[0m\u001b[0;34m.\u001b[0m\u001b[0m__init__\u001b[0m\u001b[0;34m(\u001b[0m\u001b[0mself\u001b[0m\u001b[0;34m)\u001b[0m\u001b[0;34m\u001b[0m\u001b[0m\n\u001b[1;32m     48\u001b[0m         \u001b[0;32mif\u001b[0m \u001b[0mlen\u001b[0m\u001b[0;34m(\u001b[0m\u001b[0margs\u001b[0m\u001b[0;34m)\u001b[0m \u001b[0;34m>\u001b[0m \u001b[0;36m0\u001b[0m\u001b[0;34m:\u001b[0m\u001b[0;34m\u001b[0m\u001b[0m\n\u001b[0;32m---> 49\u001b[0;31m             \u001b[0mself\u001b[0m\u001b[0;34m.\u001b[0m\u001b[0m_set_coords\u001b[0m\u001b[0;34m(\u001b[0m\u001b[0;34m*\u001b[0m\u001b[0margs\u001b[0m\u001b[0;34m)\u001b[0m\u001b[0;34m\u001b[0m\u001b[0m\n\u001b[0m\u001b[1;32m     50\u001b[0m \u001b[0;34m\u001b[0m\u001b[0m\n\u001b[1;32m     51\u001b[0m     \u001b[0;31m# Coordinate getters and setters\u001b[0m\u001b[0;34m\u001b[0m\u001b[0;34m\u001b[0m\u001b[0m\n",
      "\u001b[0;32m/Library/Python/2.7/site-packages/shapely/geometry/point.pyc\u001b[0m in \u001b[0;36m_set_coords\u001b[0;34m(self, *args)\u001b[0m\n\u001b[1;32m    127\u001b[0m             \u001b[0mself\u001b[0m\u001b[0;34m.\u001b[0m\u001b[0m_geom\u001b[0m\u001b[0;34m,\u001b[0m \u001b[0mself\u001b[0m\u001b[0;34m.\u001b[0m\u001b[0m_ndim\u001b[0m \u001b[0;34m=\u001b[0m \u001b[0mgeos_point_from_py\u001b[0m\u001b[0;34m(\u001b[0m\u001b[0margs\u001b[0m\u001b[0;34m[\u001b[0m\u001b[0;36m0\u001b[0m\u001b[0;34m]\u001b[0m\u001b[0;34m)\u001b[0m\u001b[0;34m\u001b[0m\u001b[0m\n\u001b[1;32m    128\u001b[0m         \u001b[0;32melse\u001b[0m\u001b[0;34m:\u001b[0m\u001b[0;34m\u001b[0m\u001b[0m\n\u001b[0;32m--> 129\u001b[0;31m             \u001b[0mself\u001b[0m\u001b[0;34m.\u001b[0m\u001b[0m_geom\u001b[0m\u001b[0;34m,\u001b[0m \u001b[0mself\u001b[0m\u001b[0;34m.\u001b[0m\u001b[0m_ndim\u001b[0m \u001b[0;34m=\u001b[0m \u001b[0mgeos_point_from_py\u001b[0m\u001b[0;34m(\u001b[0m\u001b[0mtuple\u001b[0m\u001b[0;34m(\u001b[0m\u001b[0margs\u001b[0m\u001b[0;34m)\u001b[0m\u001b[0;34m)\u001b[0m\u001b[0;34m\u001b[0m\u001b[0m\n\u001b[0m\u001b[1;32m    130\u001b[0m \u001b[0;34m\u001b[0m\u001b[0m\n\u001b[1;32m    131\u001b[0m     \u001b[0mcoords\u001b[0m \u001b[0;34m=\u001b[0m \u001b[0mproperty\u001b[0m\u001b[0;34m(\u001b[0m\u001b[0mBaseGeometry\u001b[0m\u001b[0;34m.\u001b[0m\u001b[0m_get_coords\u001b[0m\u001b[0;34m,\u001b[0m \u001b[0m_set_coords\u001b[0m\u001b[0;34m)\u001b[0m\u001b[0;34m\u001b[0m\u001b[0m\n",
      "\u001b[0;32m/Library/Python/2.7/site-packages/shapely/geometry/point.pyc\u001b[0m in \u001b[0;36mgeos_point_from_py\u001b[0;34m(ob, update_geom, update_ndim)\u001b[0m\n\u001b[1;32m    233\u001b[0m             \u001b[0mcoords\u001b[0m \u001b[0;34m=\u001b[0m \u001b[0mob\u001b[0m\u001b[0;34m\u001b[0m\u001b[0m\n\u001b[1;32m    234\u001b[0m         \u001b[0mn\u001b[0m \u001b[0;34m=\u001b[0m \u001b[0mlen\u001b[0m\u001b[0;34m(\u001b[0m\u001b[0mcoords\u001b[0m\u001b[0;34m)\u001b[0m\u001b[0;34m\u001b[0m\u001b[0m\n\u001b[0;32m--> 235\u001b[0;31m         \u001b[0mdx\u001b[0m \u001b[0;34m=\u001b[0m \u001b[0mc_double\u001b[0m\u001b[0;34m(\u001b[0m\u001b[0mcoords\u001b[0m\u001b[0;34m[\u001b[0m\u001b[0;36m0\u001b[0m\u001b[0;34m]\u001b[0m\u001b[0;34m)\u001b[0m\u001b[0;34m\u001b[0m\u001b[0m\n\u001b[0m\u001b[1;32m    236\u001b[0m         \u001b[0mdy\u001b[0m \u001b[0;34m=\u001b[0m \u001b[0mc_double\u001b[0m\u001b[0;34m(\u001b[0m\u001b[0mcoords\u001b[0m\u001b[0;34m[\u001b[0m\u001b[0;36m1\u001b[0m\u001b[0;34m]\u001b[0m\u001b[0;34m)\u001b[0m\u001b[0;34m\u001b[0m\u001b[0m\n\u001b[1;32m    237\u001b[0m         \u001b[0mdz\u001b[0m \u001b[0;34m=\u001b[0m \u001b[0mNone\u001b[0m\u001b[0;34m\u001b[0m\u001b[0m\n",
      "\u001b[0;31mTypeError\u001b[0m: a float is required"
     ]
    }
   ],
   "source": [
    "if __name__ == '__main__':\n",
    "    date_ini = str(date(2015, 01, 01))\n",
    "    date_end = str(date(2015, 12, 31))\n",
    "    print \"-----> Date Range:\", date_ini, date_end\n",
    "\n",
    "    regions_bbox = getRegions()\n",
    "    regions_number = len(regions_bbox)\n",
    "    print \"-----> Number of regions:\", regions_number\n",
    "\n",
    "    complaints, complaints_loc = get311NoiseComplaints()\n",
    "    print \"----->\", sum([v for v in complaints.values()]), \"complaints\"\n",
    "    complaints_region_time = complaintsPerRegion(regions_bbox, complaints_loc)"
   ]
  },
  {
   "cell_type": "markdown",
   "metadata": {},
   "source": [
    "# 311 Complaints Time Series Visualization\n",
    "\n",
    "## General Overview \n",
    "\n",
    "### 1. Number of Complaints per Category"
   ]
  },
  {
   "cell_type": "code",
   "execution_count": null,
   "metadata": {
    "collapsed": false
   },
   "outputs": [],
   "source": [
    "%matplotlib inline\n",
    "\n",
    "import numpy\n",
    "import matplotlib\n",
    "import matplotlib.pyplot as plt\n",
    "\n",
    "cmap = plt.get_cmap('Set3')\n",
    "colors = [cmap(i) for i in numpy.linspace(0, 1, len(complaints))]\n",
    "complaints = collections.OrderedDict(sorted(complaints.items()))\n",
    "\n",
    "plt.figure(figsize=(7, 7), dpi=200)\n",
    "item = 0\n",
    "for key, value in complaints.iteritems():\n",
    "    print key, ':', value\n",
    "    plt.bar(item, value, label=key, color=colors[item])\n",
    "    item += 1\n",
    "plt.legend(loc='center left', bbox_to_anchor=(1, 0.5))    \n",
    "plt.xlabel('Noise Category ID')\n",
    "plt.ylabel('Number of Complaints')\n",
    "plt.title('Number of Complaints per Category in 2015')"
   ]
  },
  {
   "cell_type": "markdown",
   "metadata": {},
   "source": [
    "### 2. Filtering by Time"
   ]
  },
  {
   "cell_type": "code",
   "execution_count": null,
   "metadata": {
    "collapsed": false
   },
   "outputs": [],
   "source": [
    "import collections\n",
    "\n",
    "complaints_time = {}\n",
    "for key in complaints:\n",
    "        complaints_time[key] = []\n",
    "        \n",
    "for key, value in complaints_region_time.iteritems():\n",
    "    for item in value:\n",
    "        new_key = item[3]\n",
    "        new_value = item[2]\n",
    "        complaints_time[new_key].append(new_value)\n",
    "\n",
    "complaints_hour = numpy.zeros((18, 24))\n",
    "complaints_day = numpy.zeros((18, 7))\n",
    "complaints_month = numpy.zeros((18, 12))\n",
    "\n",
    "complaints_time = collections.OrderedDict(sorted(complaints_time.items()))  # To guarantee keys order\n",
    "index = 0\n",
    "for key, value in complaints_time.iteritems():\n",
    "    for item in value:\n",
    "        hour = item.hour          # Between 0 and 23\n",
    "        weekday = item.weekday()  # Starts on Monday\n",
    "        month = item.month - 1    # Between 1 and 12\n",
    "        \n",
    "        complaints_hour[index, hour] += 1\n",
    "        complaints_day[index, weekday] += 1\n",
    "        complaints_month[index, month] += 1\n",
    "    index += 1"
   ]
  },
  {
   "cell_type": "code",
   "execution_count": null,
   "metadata": {
    "collapsed": false
   },
   "outputs": [],
   "source": [
    "keys = sorted(complaints.keys())\n",
    "y = range(complaints_hour.shape[1])\n",
    "\n",
    "plt.figure(figsize=(15, 7), dpi=200)\n",
    "for i in range(complaints_hour.shape[0]):\n",
    "    plt.plot(y, complaints_hour[i,:], label=keys[i], color=colors[i], linewidth=5)\n",
    "plt.plot(y, numpy.sum(complaints_hour, axis=0), label='Total', color='gray', linewidth=5, linestyle='--')\n",
    "plt.legend(loc='center left', bbox_to_anchor=(1, 0.5)) \n",
    "plt.xticks(numpy.arange(0, 24, 1))\n",
    "plt.xlabel('Hour of the Day')\n",
    "plt.ylabel('Number of Complaints')\n",
    "plt.title('Number of Complaints per Hour in 2015')"
   ]
  },
  {
   "cell_type": "code",
   "execution_count": null,
   "metadata": {
    "collapsed": false
   },
   "outputs": [],
   "source": [
    "y = range(complaints_day.shape[1])\n",
    "\n",
    "plt.figure(figsize=(15, 7), dpi=200)\n",
    "for i in range(complaints_day.shape[0]):\n",
    "    plt.plot(y, complaints_day[i,:], label=keys[i], color=colors[i], linewidth=5)\n",
    "plt.plot(y, numpy.sum(complaints_day, axis=0), label='Total', color='gray', linewidth=5, linestyle='--')\n",
    "plt.legend(loc='center left', bbox_to_anchor=(1, 0.5)) \n",
    "plt.xlabel('Weekday')\n",
    "plt.ylabel('Number of Complaints')\n",
    "plt.title('Number of Complaints per Weekday in 2015')"
   ]
  },
  {
   "cell_type": "code",
   "execution_count": null,
   "metadata": {
    "collapsed": false
   },
   "outputs": [],
   "source": [
    "y = range(complaints_month.shape[1])\n",
    "\n",
    "plt.figure(figsize=(15, 7), dpi=200)\n",
    "for i in range(complaints_month.shape[0]):\n",
    "    plt.plot(y, complaints_month[i,:], label=keys[i], color=colors[i], linewidth=5)\n",
    "plt.plot(y, numpy.sum(complaints_month, axis=0), label='Total', color='gray', linewidth=5, linestyle='--')\n",
    "plt.legend(loc='center left', bbox_to_anchor=(1, 0.5)) \n",
    "plt.xticks(numpy.arange(0, 12, 1))\n",
    "plt.xlabel('Month')\n",
    "plt.ylabel('Number of Complaints')\n",
    "plt.title('Number of Complaints per Month in 2015')"
   ]
  },
  {
   "cell_type": "code",
   "execution_count": null,
   "metadata": {
    "collapsed": false
   },
   "outputs": [],
   "source": []
  }
 ],
 "metadata": {
  "kernelspec": {
   "display_name": "Python 2",
   "language": "python",
   "name": "python2"
  },
  "language_info": {
   "codemirror_mode": {
    "name": "ipython",
    "version": 2
   },
   "file_extension": ".py",
   "mimetype": "text/x-python",
   "name": "python",
   "nbconvert_exporter": "python",
   "pygments_lexer": "ipython2",
   "version": "2.7.10"
  }
 },
 "nbformat": 4,
 "nbformat_minor": 0
}
